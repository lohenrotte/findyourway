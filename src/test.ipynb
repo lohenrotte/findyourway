{
 "cells": [
  {
   "cell_type": "code",
   "execution_count": 1,
   "metadata": {},
   "outputs": [],
   "source": [
    "import osmnx as ox\n",
    "import matplotlib.pyplot as plt\n",
    "\n"
   ]
  },
  {
   "cell_type": "code",
   "execution_count": 2,
   "metadata": {},
   "outputs": [
    {
     "name": "stdout",
     "output_type": "stream",
     "text": [
      "Coordinates: (50.8279199, 4.3594717)\n"
     ]
    }
   ],
   "source": [
    "address = \"Rue Defacqz, Brussels, Belgium\"\n",
    "location_point = ox.geocode(address)\n",
    "print(\"Coordinates:\", location_point) \n",
    "\n"
   ]
  },
  {
   "cell_type": "code",
   "execution_count": 4,
   "metadata": {},
   "outputs": [
    {
     "data": {
      "text/plain": [
       "142571605"
      ]
     },
     "execution_count": 4,
     "metadata": {},
     "output_type": "execute_result"
    }
   ],
   "source": [
    "G = ox.graph_from_place(\"Brussels, Belgium\", network_type=\"drive\")  # Example coordinates for the location\n",
    "start = ox.distance.nearest_nodes(G, location_point[0], location_point[1])  # Or any lat/lon\n",
    "start"
   ]
  },
  {
   "cell_type": "code",
   "execution_count": 5,
   "metadata": {},
   "outputs": [],
   "source": [
    "import networkx as nx\n",
    "import osmnx as ox\n",
    "import random\n",
    "\n",
    "def find_loops(G, start, target_dist=1000, margin=0.2, max_depth=12):\n",
    "    best = []\n",
    "\n",
    "    def dfs(node, path, dist, depth):\n",
    "        if depth > max_depth:\n",
    "            return\n",
    "        if node == start and len(path) > 2:\n",
    "            if (1 - margin)*target_dist <= dist <= (1 + margin)*target_dist:\n",
    "                score = -abs(dist - target_dist) + len(set(path))*5\n",
    "                best.append((score, list(path), dist))\n",
    "            return\n",
    "        for neighbor in G.neighbors(node):\n",
    "            for key in G[node][neighbor]:\n",
    "                edge = G[node][neighbor][key]\n",
    "                length = edge.get(\"length\", 1)\n",
    "                if len(path) >= 2 and neighbor == path[-2]:\n",
    "                    continue  # avoid ping-pong\n",
    "                path.append(neighbor)\n",
    "                dfs(neighbor, path, dist + length, depth + 1)\n",
    "                path.pop()\n",
    "\n",
    "    dfs(start, [start], 0, 0)\n",
    "    return sorted(best, reverse=True)[:5]\n"
   ]
  },
  {
   "cell_type": "code",
   "execution_count": 8,
   "metadata": {},
   "outputs": [
    {
     "data": {
      "text/plain": [
       "[]"
      ]
     },
     "execution_count": 8,
     "metadata": {},
     "output_type": "execute_result"
    }
   ],
   "source": [
    "loops = find_loops(G, start, target_dist=1200)\n",
    "loops"
   ]
  },
  {
   "cell_type": "code",
   "execution_count": 7,
   "metadata": {},
   "outputs": [],
   "source": [
    "for score, path, dist in loops:\n",
    "    print(f\"Loop of {round(dist)}m: {path[:5]}...{path[-5:]}\")"
   ]
  },
  {
   "cell_type": "code",
   "execution_count": 9,
   "metadata": {},
   "outputs": [
    {
     "ename": "NameError",
     "evalue": "name 'path' is not defined",
     "output_type": "error",
     "traceback": [
      "\u001b[31m---------------------------------------------------------------------------\u001b[39m",
      "\u001b[31mNameError\u001b[39m                                 Traceback (most recent call last)",
      "\u001b[36mCell\u001b[39m\u001b[36m \u001b[39m\u001b[32mIn[9]\u001b[39m\u001b[32m, line 1\u001b[39m\n\u001b[32m----> \u001b[39m\u001b[32m1\u001b[39m ox.plot_graph_route(G, \u001b[43mpath\u001b[49m, route_linewidth=\u001b[32m4\u001b[39m, bgcolor=\u001b[33m'\u001b[39m\u001b[33mw\u001b[39m\u001b[33m'\u001b[39m)\n",
      "\u001b[31mNameError\u001b[39m: name 'path' is not defined"
     ]
    }
   ],
   "source": [
    "ox.plot_graph_route(G, path, route_linewidth=4, bgcolor='w')\n"
   ]
  },
  {
   "cell_type": "code",
   "execution_count": null,
   "metadata": {},
   "outputs": [],
   "source": []
  }
 ],
 "metadata": {
  "kernelspec": {
   "display_name": "base",
   "language": "python",
   "name": "python3"
  },
  "language_info": {
   "codemirror_mode": {
    "name": "ipython",
    "version": 3
   },
   "file_extension": ".py",
   "mimetype": "text/x-python",
   "name": "python",
   "nbconvert_exporter": "python",
   "pygments_lexer": "ipython3",
   "version": "3.13.5"
  }
 },
 "nbformat": 4,
 "nbformat_minor": 2
}
